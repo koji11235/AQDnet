{
 "cells": [
  {
   "cell_type": "markdown",
   "id": "378e4606-1909-447f-89d8-1412a8831d75",
   "metadata": {},
   "source": [
    "# Predicttion Example"
   ]
  },
  {
   "cell_type": "markdown",
   "id": "0bd3deb5-6e09-40dd-ba62-94af3f68ca3f",
   "metadata": {},
   "source": [
    "We have prepared a script that can perform feature extraction and prediction of binding energies from PDB files in a single line."
   ]
  },
  {
   "cell_type": "code",
   "execution_count": 7,
   "id": "efce0692-2483-414f-b71d-27d7bb3477ca",
   "metadata": {},
   "outputs": [
    {
     "name": "stdout",
     "output_type": "stream",
     "text": [
      "2023-02-27 06:24:06.715806: I tensorflow/stream_executor/platform/default/dso_loader.cc:48] Successfully opened dynamic library libcudart.so.10.1\n",
      "usage: predict.py [-h] [-input_dir INPUT_DIR] [-output OUTPUT]\n",
      "                  [-model MODEL_DIR_PATH] [-num_cpu NUM_CPU]\n",
      "                  [-cuda CUDA_VISIBLE_DEVICE]\n",
      "\n",
      "Predict pKa energy from pdb files.\n",
      "\n",
      "    Examples:\n",
      "        singularity shell --nv environment/aqdnet_env_latest.sif\n",
      "        python predict.py -input_dir \"input/\" -output \"output.csv\" -model \"../Models/Docking_Energy30RMSD2.5/\" -num_cpu 2 -cuda '-1'\n",
      "    \n",
      "    \n",
      "\n",
      "optional arguments:\n",
      "  -h, --help            show this help message and exit\n",
      "  -input_dir INPUT_DIR  Directory name of input data. Files with a .pdb extension in input_dir are passed to glob.glob() function.\n",
      "                                                \n",
      "  -output OUTPUT        Output file name.\n",
      "                        Column Discription:\n",
      "                            pKa_energy: pKa_energy predicted by both complex feature and ligand feature.\n",
      "                            pKa_energy_by_cmp: pKa_energy predicted by only complex feature.\n",
      "                            ligand_energy_by_lgd: Ligand_energy predicted by only ligand feature.\n",
      "                                                \n",
      "  -model MODEL_DIR_PATH, --model_dir_path MODEL_DIR_PATH\n",
      "                        Trained model path. Make a prediction with the model specified by this argument. \n",
      "                                                In this model directory, 'params_for_prediction.json' must be placed. \n",
      "                                                \n",
      "  -num_cpu NUM_CPU      Number of CPUs to use in feature generation phase.\n",
      "                                                \n",
      "  -cuda CUDA_VISIBLE_DEVICE, --cuda_visible_device CUDA_VISIBLE_DEVICE\n",
      "                        CUDA_VISIBLE_DEVICE argument. If you use GPU devices, set this argument to like '0,1'. Default to '-1'.\n",
      "                                                \n",
      "\u001b[0m"
     ]
    }
   ],
   "source": [
    "# help document \n",
    "!python ./Scripts/predict.py -h"
   ]
  },
  {
   "cell_type": "markdown",
   "id": "bb467b46-4b35-4e35-9fc5-c01d17008b9c",
   "metadata": {},
   "source": [
    "## Important Notice\n",
    "\n",
    "In the model directory, 'params_for_prediction.json' must be placed.   \n",
    "'params_for_prediction.json' contains all the params used in feature extraction and training phase.\n"
   ]
  },
  {
   "cell_type": "code",
   "execution_count": 6,
   "id": "081b7ebd-484b-4b0a-bea1-4c6ccff0c095",
   "metadata": {},
   "outputs": [
    {
     "name": "stdout",
     "output_type": "stream",
     "text": [
      "2023-02-27 05:27:17.622384: I tensorflow/stream_executor/platform/default/dso_loader.cc:48] Successfully opened dynamic library libcudart.so.10.1\n",
      "100%|###########################################| 10/10 [00:09<00:00,  1.10it/s]\n",
      "MainProcess: Feature generation completed ...... \n",
      "2023-02-27 05:27:31.722404: I tensorflow/stream_executor/platform/default/dso_loader.cc:48] Successfully opened dynamic library libcuda.so.1\n",
      "2023-02-27 05:27:31.763295: E tensorflow/stream_executor/cuda/cuda_driver.cc:314] failed call to cuInit: CUDA_ERROR_NO_DEVICE: no CUDA-capable device is detected\n",
      "2023-02-27 05:27:31.763374: I tensorflow/stream_executor/cuda/cuda_diagnostics.cc:169] retrieving CUDA diagnostic information for host: gpu-node02\n",
      "2023-02-27 05:27:31.763386: I tensorflow/stream_executor/cuda/cuda_diagnostics.cc:176] hostname: gpu-node02\n",
      "2023-02-27 05:27:31.763557: I tensorflow/stream_executor/cuda/cuda_diagnostics.cc:200] libcuda reported version is: Invalid argument: expected %d.%d, %d.%d.%d, or %d.%d.%d.%d form for driver version; got \"1\"\n",
      "2023-02-27 05:27:31.763589: I tensorflow/stream_executor/cuda/cuda_diagnostics.cc:204] kernel reported version is: 440.31.0\n",
      "2023-02-27 05:27:31.764016: I tensorflow/core/platform/cpu_feature_guard.cc:142] This TensorFlow binary is optimized with oneAPI Deep Neural Network Library (oneDNN)to use the following CPU instructions in performance-critical operations:  AVX2 AVX512F FMA\n",
      "To enable them in other operations, rebuild TensorFlow with the appropriate compiler flags.\n",
      "2023-02-27 05:27:31.770776: I tensorflow/core/platform/profile_utils/cpu_utils.cc:104] CPU Frequency: 2100000000 Hz\n",
      "2023-02-27 05:27:31.770905: I tensorflow/compiler/xla/service/service.cc:168] XLA service 0x4a071a0 initialized for platform Host (this does not guarantee that XLA will be used). Devices:\n",
      "2023-02-27 05:27:31.770918: I tensorflow/compiler/xla/service/service.cc:176]   StreamExecutor device (0): Host, Default Version\n",
      "                                                    pKa_energy\n",
      "./SampleStructures/predict_example/smina_188l_d...   -0.201246\n",
      "./SampleStructures/predict_example/smina_188l_d...   15.523898\n",
      "./SampleStructures/predict_example/smina_188l_d...   47.981510\n",
      "./SampleStructures/predict_example/smina_188l_d...   -0.107185\n",
      "./SampleStructures/predict_example/smina_188l_d...    9.006325\n",
      "./SampleStructures/predict_example/smina_188l_d...   -0.496285\n",
      "./SampleStructures/predict_example/smina_188l_d...    8.940388\n",
      "./SampleStructures/predict_example/smina_188l_d...    7.219319\n",
      "./SampleStructures/predict_example/smina_188l_d...    1.510484\n",
      "./SampleStructures/predict_example/smina_188l_d...   -0.505462\n",
      "predict_example.csv was saved...\n",
      "\u001b[0m"
     ]
    }
   ],
   "source": [
    "# usage example\n",
    "\n",
    "!python ./Scripts/predict.py -input_dir \"./SampleStructures/predict_example/\" -output \"predict_example.csv\" \\\n",
    "    -model \"./Models/Docking_Energy30RMSD2.5/\" -num_cpu 10 -cuda '-1'\n",
    "\n"
   ]
  },
  {
   "cell_type": "code",
   "execution_count": null,
   "id": "be4cab4f-38d2-46f4-9ec2-f3d936adfe12",
   "metadata": {},
   "outputs": [],
   "source": []
  }
 ],
 "metadata": {
  "kernelspec": {
   "display_name": "Python 3 (ipykernel)",
   "language": "python",
   "name": "python3"
  },
  "language_info": {
   "codemirror_mode": {
    "name": "ipython",
    "version": 3
   },
   "file_extension": ".py",
   "mimetype": "text/x-python",
   "name": "python",
   "nbconvert_exporter": "python",
   "pygments_lexer": "ipython3",
   "version": "3.6.9"
  }
 },
 "nbformat": 4,
 "nbformat_minor": 5
}
