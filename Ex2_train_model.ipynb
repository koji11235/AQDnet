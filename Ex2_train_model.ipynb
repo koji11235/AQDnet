{
 "cells": [
  {
   "cell_type": "code",
   "execution_count": 1,
   "id": "8a97b558-313f-4014-ba51-3d346e701545",
   "metadata": {},
   "outputs": [],
   "source": [
    "import sys\n",
    "sys.path.append('./Scripts')\n",
    "import os \n",
    "import tensorflow as tf\n",
    "from tensorflow.keras.callbacks import ModelCheckpoint\n",
    "from tensorflow.keras.callbacks import ReduceLROnPlateau \n",
    "from tensorflow.keras.callbacks import TerminateOnNaN\n",
    "import pandas as pd\n",
    "from model import ModelByTensorflow\n",
    "from structure import ElementwiseDNN"
   ]
  },
  {
   "cell_type": "code",
   "execution_count": 2,
   "id": "89963774-5e87-452f-846a-f4c26d39d3bb",
   "metadata": {},
   "outputs": [],
   "source": [
    "example_train_result_dir = './Results/Ex_train_result/'\n",
    "CUDA_VISIBLE_DEVICES = '-1'\n",
    "EPOCHS = 2\n",
    "EARLY_STOP = 20\n",
    "REDUCE_LR_PATIENCE = 5\n",
    "BATCH_SIZE_PER_REPLICA = 20000 \n",
    "MODEL_CHECK_POINT_MONITOR = 'PCC_RMSE'"
   ]
  },
  {
   "cell_type": "code",
   "execution_count": 3,
   "id": "512334b7-72fb-4c57-a1d7-c0343b1376d7",
   "metadata": {},
   "outputs": [],
   "source": [
    "model_params = dict(\n",
    "    label_colnames=['pKa_energy'],\n",
    "    separate_radial_and_angular_feature=True, \n",
    "    input_size_per_element_radial=207,\n",
    "    input_size_per_element_angular=1080,\n",
    "    use_only_radial_feature=False,\n",
    "    n_nodes=[500]*6, \n",
    "    output_size_per_element=10, \n",
    "    output_layer_style='fc', \n",
    "    output_layer_n_nodes=[256, 256, 256],\n",
    "    lr=1e-3, \n",
    "    use_residual_dense=True,\n",
    "    n_layers_per_res_dense=1, \n",
    "    use_spectral_norm=False, \n",
    "    l2_norm=0.01, \n",
    "    dropout=0.15, \n",
    "    dropout_input=0.05,\n",
    "    target_elements=['H', 'C', 'N', 'O', 'P', 'S', 'Cl', 'Zn', 'DU'],\n",
    "    n_radial_Rs=23, \n",
    "    n_angular_Rs=3, \n",
    "    n_thetas=8,\n",
    ")\n",
    "\n",
    "# make callbacks \n",
    "model_check_point = ModelCheckpoint(\n",
    "    filepath=os.path.join(\n",
    "        example_train_result_dir, \n",
    "        \"model-epoch{epoch:03d}-\" + MODEL_CHECK_POINT_MONITOR\\\n",
    "        + \"{val_\" + MODEL_CHECK_POINT_MONITOR + \":.2f}.h5\"),\n",
    "    monitor='val_' + MODEL_CHECK_POINT_MONITOR, \n",
    "    save_best_only=False, \n",
    "    save_weights_only=False, \n",
    "    save_freq='epoch',\n",
    "    verbose=1\n",
    ")\n",
    "\n",
    "terminate_on_nan =TerminateOnNaN()\n",
    "\n",
    "reduce_lr = ReduceLROnPlateau(\n",
    "    monitor='val_' + MODEL_CHECK_POINT_MONITOR,\n",
    "    factor=0.2,\n",
    "    patience=REDUCE_LR_PATIENCE,\n",
    "    verbose=1,\n",
    "    mode='auto',\n",
    ")\n",
    "\n",
    "fit_params =  {\n",
    "    'epochs': EPOCHS, \n",
    "    'earlystop': EARLY_STOP,\n",
    "    'batch_size_per_replica': BATCH_SIZE_PER_REPLICA,\n",
    "    'use_mirrored_strategy': False,\n",
    "    'cuda_visible_device': CUDA_VISIBLE_DEVICES,\n",
    "    'callbacks': [model_check_point, terminate_on_nan, reduce_lr]\n",
    "}"
   ]
  },
  {
   "cell_type": "code",
   "execution_count": 4,
   "id": "ee267c30-029c-4359-9e50-d68f456c85fe",
   "metadata": {},
   "outputs": [],
   "source": [
    "dataset_valid_paths = ['./Features/feature_validset.tfrecords']\n",
    "dataset_train_paths = ['./Features/feature_trainset.tfrecords']\n",
    "dataset_valid = tf.data.TFRecordDataset(dataset_valid_paths)\n",
    "dataset_train = tf.data.TFRecordDataset(dataset_train_paths)\n",
    "\n",
    "\n",
    "model = ModelByTensorflow(network_cls=ElementwiseDNN, **model_params)"
   ]
  },
  {
   "cell_type": "code",
   "execution_count": 5,
   "id": "f8abc6d2-3e4e-4430-ad1a-4d0b3053ce74",
   "metadata": {},
   "outputs": [
    {
     "name": "stdout",
     "output_type": "stream",
     "text": [
      "cuda_visible_device: -1\n",
      "os.environ['CUDA_VISIBLE_DEVICES']: -1\n",
      "gpu_devices: [], NUM_GPUS: 0\n",
      "use_mirrored_strategy: False\n",
      "global_batch_size:  20000\n",
      "Epoch 1/2\n",
      "      1/Unknown - 0s 101us/step - loss: 547.7557 - mse: 93.7906 - RMSE: 6.8593 - PCC: 0.0266 - PCC_RMSE: 2.7392\n",
      "Epoch 00001: saving model to ./Results/Ex_train_result/model-epoch001-PCC_RMSE3.66.h5\n",
      "1/1 [==============================] - 56s 56s/step - loss: 547.7557 - mse: 93.7906 - RMSE: 6.8593 - PCC: 0.0266 - PCC_RMSE: 2.7392 - val_loss: 548.6578 - val_mse: 99.1965 - val_RMSE: 9.3000 - val_PCC: -0.2473 - val_PCC_RMSE: 3.6631\n",
      "Epoch 2/2\n",
      "1/1 [==============================] - ETA: 0s - loss: 547.7465 - mse: 94.6344 - RMSE: 6.8770 - PCC: 0.0161 - PCC_RMSE: 2.7518\n",
      "Epoch 00002: saving model to ./Results/Ex_train_result/model-epoch002-PCC_RMSE2.84.h5\n",
      "1/1 [==============================] - 18s 18s/step - loss: 547.7465 - mse: 94.6344 - RMSE: 6.8770 - PCC: 0.0161 - PCC_RMSE: 2.7518 - val_loss: 547.7897 - val_mse: 51.2505 - val_RMSE: 6.1791 - val_PCC: -0.4039 - val_PCC_RMSE: 2.8364\n"
     ]
    },
    {
     "data": {
      "text/plain": [
       "<model.ModelByTensorflow at 0x2aab188c6358>"
      ]
     },
     "execution_count": 5,
     "metadata": {},
     "output_type": "execute_result"
    }
   ],
   "source": [
    "model.fit(X=dataset_train, validation_data=dataset_valid, **fit_params)\n"
   ]
  },
  {
   "cell_type": "code",
   "execution_count": 6,
   "id": "262f24d1-2fda-4621-93d3-b37f8c264b16",
   "metadata": {},
   "outputs": [],
   "source": [
    "model_path = os.path.join(example_train_result_dir, 'example_model.h5')\n",
    "training_log_path = os.path.join(example_train_result_dir, 'log.csv')\n",
    "model.save_model(model_path)\n",
    "model.log.to_csv(training_log_path)"
   ]
  },
  {
   "cell_type": "code",
   "execution_count": null,
   "id": "eb85ad75-b5c4-4264-9d10-3d5ec85028ae",
   "metadata": {},
   "outputs": [],
   "source": []
  }
 ],
 "metadata": {
  "kernelspec": {
   "display_name": "Python 3 (ipykernel)",
   "language": "python",
   "name": "python3"
  },
  "language_info": {
   "codemirror_mode": {
    "name": "ipython",
    "version": 3
   },
   "file_extension": ".py",
   "mimetype": "text/x-python",
   "name": "python",
   "nbconvert_exporter": "python",
   "pygments_lexer": "ipython3",
   "version": "3.6.9"
  }
 },
 "nbformat": 4,
 "nbformat_minor": 5
}
