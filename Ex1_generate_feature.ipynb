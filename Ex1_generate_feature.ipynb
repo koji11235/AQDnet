{
 "cells": [
  {
   "cell_type": "code",
   "execution_count": 1,
   "id": "d3b9e1b0-0c6f-47d0-aa0d-beb475d9e9e7",
   "metadata": {},
   "outputs": [],
   "source": [
    "import sys\n",
    "sys.path.append('./Scripts')\n",
    "import aqdnet\n",
    "import pandas as pd \n",
    "from structure import ElementwiseDNN"
   ]
  },
  {
   "cell_type": "markdown",
   "id": "ebd9b84f-7673-4e90-bb4b-863801e222c7",
   "metadata": {},
   "source": [
    "# Make fg_input.dat file\n",
    "\n",
    "FeatureGenerator class takes as input a text file containing the paths of pdb files, and performs feature extraction from the pdb files described in the text file. First, we create this text file (fg_input.dat)."
   ]
  },
  {
   "cell_type": "code",
   "execution_count": 6,
   "id": "1c17f821-da32-49da-a3c2-de26f9b66feb",
   "metadata": {},
   "outputs": [],
   "source": [
    "# make fg_input_file\n",
    "fg_input_file_train = './Features/fg_input_trainset.dat'\n",
    "label_train_df = pd.read_csv('./Features/label_trainset.csv')\n",
    "\n",
    "with open(fg_input_file_train, mode='w') as f:\n",
    "    f.write('\\n'.join(label_train_df['file_name'].tolist()))\n",
    "\n",
    "    \n",
    "fg_input_file_valid = './Features/fg_input_validset.dat'\n",
    "label_valid_df = pd.read_csv('./Features/label_validset.csv')\n",
    "\n",
    "with open(fg_input_file_valid, mode='w') as f:\n",
    "    f.write('\\n'.join(label_valid_df['file_name'].tolist()))"
   ]
  },
  {
   "cell_type": "code",
   "execution_count": 7,
   "id": "f061222c-d1c2-4039-89fe-424aeac2904e",
   "metadata": {},
   "outputs": [
    {
     "name": "stdout",
     "output_type": "stream",
     "text": [
      "{'distance_threshold_radial': 12, 'distance_threshold_angular': 6, 'target_elements': ['H', 'C', 'N', 'O', 'P', 'S', 'Cl', 'Zn', 'DU'], 'Rs_list_radial': [0.5, 1.0, 1.5, 2.0, 2.5, 3.0, 3.5, 4.0, 4.5, 5.0, 5.5, 6.0, 6.5, 7.0, 7.5, 8.0, 8.5, 9.0, 9.5, 10.0, 10.5, 11.0, 11.5], 'Rs_list_angular': [0.5, 2.5, 4.5], 'theta_list': [0.0, 0.7853981852531433, 1.5707963705062866, 2.356194496154785, 3.1415927410125732, 3.9269907474517822, 4.71238899230957, 5.497786998748779]}\n"
     ]
    }
   ],
   "source": [
    "fg_mother_param = dict(\n",
    "    distance_threshold_radial=12,\n",
    "    distance_threshold_angular=6,\n",
    "    target_elements=[\"H\", \"C\", \"N\", \"O\", \"P\", \"S\", \"Cl\", \"Zn\", \"DU\"],\n",
    "    Rs_radial_step=0.5,\n",
    "    Rs_angular_step=2.0,\n",
    "    n_theta=8\n",
    ")\n",
    "fg_params = aqdnet.mother_params_to_fg_params(fg_mother_param)\n",
    "print(fg_params)"
   ]
  },
  {
   "cell_type": "code",
   "execution_count": null,
   "id": "f34735a7-2d88-4bec-9713-d08cf8cb7c09",
   "metadata": {},
   "outputs": [],
   "source": []
  },
  {
   "cell_type": "code",
   "execution_count": 11,
   "id": "6d88cf1f-ee50-4fa0-8f19-3ebbcfa5d351",
   "metadata": {},
   "outputs": [
    {
     "name": "stderr",
     "output_type": "stream",
     "text": [
      "100%|██████████| 1502/1502 [59:04<00:00,  2.36s/it] \n",
      "MainProcess: Feature generation completed ...... \n"
     ]
    }
   ],
   "source": [
    "num_cpu = 10\n",
    "fg = aqdnet.FeatureGenerator(**fg_params)\n",
    "train_dataset = fg.generate(fg_input_file_train, num_cpu=num_cpu)\n"
   ]
  },
  {
   "cell_type": "code",
   "execution_count": 12,
   "id": "29e67872-99d3-4733-b9d6-74c7fa25be1f",
   "metadata": {},
   "outputs": [
    {
     "name": "stdout",
     "output_type": "stream",
     "text": [
      "Saving the dataset in csv files\n",
      "[########################################] | 100% Completed |  1min 12.4s\n",
      "./Features/feature_trainset_*.csv was saved...\n"
     ]
    }
   ],
   "source": [
    "output_train_pkl_file = './Features/feature_trainset.pkl'\n",
    "output_train_csv_files = './Features/feature_trainset_*.csv'\n",
    "train_dataset.to_pickle(output_train_pkl_file)\n",
    "train_dataset.to_csv_parallelized(output_train_csv_files, scheduler='threading')"
   ]
  },
  {
   "cell_type": "code",
   "execution_count": 13,
   "id": "2d38cdd9-e56d-42e7-bcfc-d04fe6c5dc8b",
   "metadata": {},
   "outputs": [
    {
     "name": "stderr",
     "output_type": "stream",
     "text": [
      "100%|██████████| 1502/1502 [00:50<00:00, 29.65it/s]"
     ]
    },
    {
     "name": "stdout",
     "output_type": "stream",
     "text": [
      "./Features/feature_trainset.tfrecords was saved...\n"
     ]
    },
    {
     "name": "stderr",
     "output_type": "stream",
     "text": [
      "\n"
     ]
    }
   ],
   "source": [
    "ElementwiseDNN.write_tfrecords(feature_file='./Features/feature_trainset.pkl', \n",
    "                               label_file='./Features/label_trainset.csv', \n",
    "                               tfr_filename='./Features/feature_trainset.tfrecords', \n",
    "                               feature_dimension=11583,\n",
    "                               label_colnames=['pKa_energy'])"
   ]
  },
  {
   "cell_type": "code",
   "execution_count": 13,
   "id": "39c870ce-89b8-4dad-babc-778ffb35aa80",
   "metadata": {},
   "outputs": [
    {
     "data": {
      "text/html": [
       "<div>\n",
       "<style scoped>\n",
       "    .dataframe tbody tr th:only-of-type {\n",
       "        vertical-align: middle;\n",
       "    }\n",
       "\n",
       "    .dataframe tbody tr th {\n",
       "        vertical-align: top;\n",
       "    }\n",
       "\n",
       "    .dataframe thead th {\n",
       "        text-align: right;\n",
       "    }\n",
       "</style>\n",
       "<table border=\"1\" class=\"dataframe\">\n",
       "  <thead>\n",
       "    <tr style=\"text-align: right;\">\n",
       "      <th></th>\n",
       "      <th>H_H_0</th>\n",
       "      <th>H_H_1</th>\n",
       "      <th>H_H_2</th>\n",
       "      <th>H_H_3</th>\n",
       "      <th>H_H_4</th>\n",
       "      <th>H_H_5</th>\n",
       "      <th>H_H_6</th>\n",
       "      <th>H_H_7</th>\n",
       "      <th>H_H_8</th>\n",
       "      <th>H_H_9</th>\n",
       "      <th>...</th>\n",
       "      <th>DU_DU_DU_4_2</th>\n",
       "      <th>DU_DU_DU_5_0</th>\n",
       "      <th>DU_DU_DU_5_1</th>\n",
       "      <th>DU_DU_DU_5_2</th>\n",
       "      <th>DU_DU_DU_6_0</th>\n",
       "      <th>DU_DU_DU_6_1</th>\n",
       "      <th>DU_DU_DU_6_2</th>\n",
       "      <th>DU_DU_DU_7_0</th>\n",
       "      <th>DU_DU_DU_7_1</th>\n",
       "      <th>DU_DU_DU_7_2</th>\n",
       "    </tr>\n",
       "  </thead>\n",
       "  <tbody>\n",
       "    <tr>\n",
       "      <th>./SampleStructures/184l/smina_184l_docking_1247.pdb</th>\n",
       "      <td>0.000346</td>\n",
       "      <td>0.066896</td>\n",
       "      <td>2.082037</td>\n",
       "      <td>12.663430</td>\n",
       "      <td>26.431372</td>\n",
       "      <td>47.278744</td>\n",
       "      <td>75.936883</td>\n",
       "      <td>96.554963</td>\n",
       "      <td>115.838086</td>\n",
       "      <td>132.449398</td>\n",
       "      <td>...</td>\n",
       "      <td>0.0</td>\n",
       "      <td>0.0</td>\n",
       "      <td>0.0</td>\n",
       "      <td>0.0</td>\n",
       "      <td>0.0</td>\n",
       "      <td>0.0</td>\n",
       "      <td>0.0</td>\n",
       "      <td>0.0</td>\n",
       "      <td>0.0</td>\n",
       "      <td>0.0</td>\n",
       "    </tr>\n",
       "    <tr>\n",
       "      <th>./SampleStructures/184l/smina_184l_docking_1869.pdb</th>\n",
       "      <td>0.000284</td>\n",
       "      <td>0.061736</td>\n",
       "      <td>2.090402</td>\n",
       "      <td>13.121278</td>\n",
       "      <td>26.104995</td>\n",
       "      <td>45.904875</td>\n",
       "      <td>77.555062</td>\n",
       "      <td>98.030261</td>\n",
       "      <td>114.037981</td>\n",
       "      <td>133.574724</td>\n",
       "      <td>...</td>\n",
       "      <td>0.0</td>\n",
       "      <td>0.0</td>\n",
       "      <td>0.0</td>\n",
       "      <td>0.0</td>\n",
       "      <td>0.0</td>\n",
       "      <td>0.0</td>\n",
       "      <td>0.0</td>\n",
       "      <td>0.0</td>\n",
       "      <td>0.0</td>\n",
       "      <td>0.0</td>\n",
       "    </tr>\n",
       "    <tr>\n",
       "      <th>./SampleStructures/184l/smina_184l_docking_0285.pdb</th>\n",
       "      <td>0.000665</td>\n",
       "      <td>0.093888</td>\n",
       "      <td>2.324606</td>\n",
       "      <td>12.463945</td>\n",
       "      <td>26.094088</td>\n",
       "      <td>48.658723</td>\n",
       "      <td>76.655379</td>\n",
       "      <td>94.948475</td>\n",
       "      <td>114.848632</td>\n",
       "      <td>132.433054</td>\n",
       "      <td>...</td>\n",
       "      <td>0.0</td>\n",
       "      <td>0.0</td>\n",
       "      <td>0.0</td>\n",
       "      <td>0.0</td>\n",
       "      <td>0.0</td>\n",
       "      <td>0.0</td>\n",
       "      <td>0.0</td>\n",
       "      <td>0.0</td>\n",
       "      <td>0.0</td>\n",
       "      <td>0.0</td>\n",
       "    </tr>\n",
       "    <tr>\n",
       "      <th>./SampleStructures/184l/smina_184l_docking_0500.pdb</th>\n",
       "      <td>0.000506</td>\n",
       "      <td>0.082843</td>\n",
       "      <td>2.258289</td>\n",
       "      <td>12.933138</td>\n",
       "      <td>26.894942</td>\n",
       "      <td>47.035903</td>\n",
       "      <td>76.257962</td>\n",
       "      <td>96.418172</td>\n",
       "      <td>115.241602</td>\n",
       "      <td>134.532175</td>\n",
       "      <td>...</td>\n",
       "      <td>0.0</td>\n",
       "      <td>0.0</td>\n",
       "      <td>0.0</td>\n",
       "      <td>0.0</td>\n",
       "      <td>0.0</td>\n",
       "      <td>0.0</td>\n",
       "      <td>0.0</td>\n",
       "      <td>0.0</td>\n",
       "      <td>0.0</td>\n",
       "      <td>0.0</td>\n",
       "    </tr>\n",
       "    <tr>\n",
       "      <th>./SampleStructures/184l/smina_184l_docking_1379.pdb</th>\n",
       "      <td>0.000642</td>\n",
       "      <td>0.092579</td>\n",
       "      <td>2.313696</td>\n",
       "      <td>12.440111</td>\n",
       "      <td>26.116268</td>\n",
       "      <td>48.698368</td>\n",
       "      <td>76.510390</td>\n",
       "      <td>94.969166</td>\n",
       "      <td>115.038057</td>\n",
       "      <td>132.231465</td>\n",
       "      <td>...</td>\n",
       "      <td>0.0</td>\n",
       "      <td>0.0</td>\n",
       "      <td>0.0</td>\n",
       "      <td>0.0</td>\n",
       "      <td>0.0</td>\n",
       "      <td>0.0</td>\n",
       "      <td>0.0</td>\n",
       "      <td>0.0</td>\n",
       "      <td>0.0</td>\n",
       "      <td>0.0</td>\n",
       "    </tr>\n",
       "  </tbody>\n",
       "</table>\n",
       "<p>5 rows × 11583 columns</p>\n",
       "</div>"
      ],
      "text/plain": [
       "                                                       H_H_0     H_H_1  \\\n",
       "./SampleStructures/184l/smina_184l_docking_1247...  0.000346  0.066896   \n",
       "./SampleStructures/184l/smina_184l_docking_1869...  0.000284  0.061736   \n",
       "./SampleStructures/184l/smina_184l_docking_0285...  0.000665  0.093888   \n",
       "./SampleStructures/184l/smina_184l_docking_0500...  0.000506  0.082843   \n",
       "./SampleStructures/184l/smina_184l_docking_1379...  0.000642  0.092579   \n",
       "\n",
       "                                                       H_H_2      H_H_3  \\\n",
       "./SampleStructures/184l/smina_184l_docking_1247...  2.082037  12.663430   \n",
       "./SampleStructures/184l/smina_184l_docking_1869...  2.090402  13.121278   \n",
       "./SampleStructures/184l/smina_184l_docking_0285...  2.324606  12.463945   \n",
       "./SampleStructures/184l/smina_184l_docking_0500...  2.258289  12.933138   \n",
       "./SampleStructures/184l/smina_184l_docking_1379...  2.313696  12.440111   \n",
       "\n",
       "                                                        H_H_4      H_H_5  \\\n",
       "./SampleStructures/184l/smina_184l_docking_1247...  26.431372  47.278744   \n",
       "./SampleStructures/184l/smina_184l_docking_1869...  26.104995  45.904875   \n",
       "./SampleStructures/184l/smina_184l_docking_0285...  26.094088  48.658723   \n",
       "./SampleStructures/184l/smina_184l_docking_0500...  26.894942  47.035903   \n",
       "./SampleStructures/184l/smina_184l_docking_1379...  26.116268  48.698368   \n",
       "\n",
       "                                                        H_H_6      H_H_7  \\\n",
       "./SampleStructures/184l/smina_184l_docking_1247...  75.936883  96.554963   \n",
       "./SampleStructures/184l/smina_184l_docking_1869...  77.555062  98.030261   \n",
       "./SampleStructures/184l/smina_184l_docking_0285...  76.655379  94.948475   \n",
       "./SampleStructures/184l/smina_184l_docking_0500...  76.257962  96.418172   \n",
       "./SampleStructures/184l/smina_184l_docking_1379...  76.510390  94.969166   \n",
       "\n",
       "                                                         H_H_8       H_H_9  \\\n",
       "./SampleStructures/184l/smina_184l_docking_1247...  115.838086  132.449398   \n",
       "./SampleStructures/184l/smina_184l_docking_1869...  114.037981  133.574724   \n",
       "./SampleStructures/184l/smina_184l_docking_0285...  114.848632  132.433054   \n",
       "./SampleStructures/184l/smina_184l_docking_0500...  115.241602  134.532175   \n",
       "./SampleStructures/184l/smina_184l_docking_1379...  115.038057  132.231465   \n",
       "\n",
       "                                                    ...  DU_DU_DU_4_2  \\\n",
       "./SampleStructures/184l/smina_184l_docking_1247...  ...           0.0   \n",
       "./SampleStructures/184l/smina_184l_docking_1869...  ...           0.0   \n",
       "./SampleStructures/184l/smina_184l_docking_0285...  ...           0.0   \n",
       "./SampleStructures/184l/smina_184l_docking_0500...  ...           0.0   \n",
       "./SampleStructures/184l/smina_184l_docking_1379...  ...           0.0   \n",
       "\n",
       "                                                    DU_DU_DU_5_0  \\\n",
       "./SampleStructures/184l/smina_184l_docking_1247...           0.0   \n",
       "./SampleStructures/184l/smina_184l_docking_1869...           0.0   \n",
       "./SampleStructures/184l/smina_184l_docking_0285...           0.0   \n",
       "./SampleStructures/184l/smina_184l_docking_0500...           0.0   \n",
       "./SampleStructures/184l/smina_184l_docking_1379...           0.0   \n",
       "\n",
       "                                                    DU_DU_DU_5_1  \\\n",
       "./SampleStructures/184l/smina_184l_docking_1247...           0.0   \n",
       "./SampleStructures/184l/smina_184l_docking_1869...           0.0   \n",
       "./SampleStructures/184l/smina_184l_docking_0285...           0.0   \n",
       "./SampleStructures/184l/smina_184l_docking_0500...           0.0   \n",
       "./SampleStructures/184l/smina_184l_docking_1379...           0.0   \n",
       "\n",
       "                                                    DU_DU_DU_5_2  \\\n",
       "./SampleStructures/184l/smina_184l_docking_1247...           0.0   \n",
       "./SampleStructures/184l/smina_184l_docking_1869...           0.0   \n",
       "./SampleStructures/184l/smina_184l_docking_0285...           0.0   \n",
       "./SampleStructures/184l/smina_184l_docking_0500...           0.0   \n",
       "./SampleStructures/184l/smina_184l_docking_1379...           0.0   \n",
       "\n",
       "                                                    DU_DU_DU_6_0  \\\n",
       "./SampleStructures/184l/smina_184l_docking_1247...           0.0   \n",
       "./SampleStructures/184l/smina_184l_docking_1869...           0.0   \n",
       "./SampleStructures/184l/smina_184l_docking_0285...           0.0   \n",
       "./SampleStructures/184l/smina_184l_docking_0500...           0.0   \n",
       "./SampleStructures/184l/smina_184l_docking_1379...           0.0   \n",
       "\n",
       "                                                    DU_DU_DU_6_1  \\\n",
       "./SampleStructures/184l/smina_184l_docking_1247...           0.0   \n",
       "./SampleStructures/184l/smina_184l_docking_1869...           0.0   \n",
       "./SampleStructures/184l/smina_184l_docking_0285...           0.0   \n",
       "./SampleStructures/184l/smina_184l_docking_0500...           0.0   \n",
       "./SampleStructures/184l/smina_184l_docking_1379...           0.0   \n",
       "\n",
       "                                                    DU_DU_DU_6_2  \\\n",
       "./SampleStructures/184l/smina_184l_docking_1247...           0.0   \n",
       "./SampleStructures/184l/smina_184l_docking_1869...           0.0   \n",
       "./SampleStructures/184l/smina_184l_docking_0285...           0.0   \n",
       "./SampleStructures/184l/smina_184l_docking_0500...           0.0   \n",
       "./SampleStructures/184l/smina_184l_docking_1379...           0.0   \n",
       "\n",
       "                                                    DU_DU_DU_7_0  \\\n",
       "./SampleStructures/184l/smina_184l_docking_1247...           0.0   \n",
       "./SampleStructures/184l/smina_184l_docking_1869...           0.0   \n",
       "./SampleStructures/184l/smina_184l_docking_0285...           0.0   \n",
       "./SampleStructures/184l/smina_184l_docking_0500...           0.0   \n",
       "./SampleStructures/184l/smina_184l_docking_1379...           0.0   \n",
       "\n",
       "                                                    DU_DU_DU_7_1  DU_DU_DU_7_2  \n",
       "./SampleStructures/184l/smina_184l_docking_1247...           0.0           0.0  \n",
       "./SampleStructures/184l/smina_184l_docking_1869...           0.0           0.0  \n",
       "./SampleStructures/184l/smina_184l_docking_0285...           0.0           0.0  \n",
       "./SampleStructures/184l/smina_184l_docking_0500...           0.0           0.0  \n",
       "./SampleStructures/184l/smina_184l_docking_1379...           0.0           0.0  \n",
       "\n",
       "[5 rows x 11583 columns]"
      ]
     },
     "execution_count": 13,
     "metadata": {},
     "output_type": "execute_result"
    }
   ],
   "source": [
    "train_dataset.head()"
   ]
  },
  {
   "cell_type": "code",
   "execution_count": 8,
   "id": "7d845a2e-29d9-4971-872b-a43051d5a902",
   "metadata": {},
   "outputs": [
    {
     "name": "stderr",
     "output_type": "stream",
     "text": [
      "100%|██████████| 303/303 [10:26<00:00,  2.07s/it] \n",
      "MainProcess: Feature generation completed ...... \n"
     ]
    }
   ],
   "source": [
    "num_cpu = 10\n",
    "fg = aqdnet.FeatureGenerator(**fg_params)\n",
    "valid_dataset = fg.generate(fg_input_file_valid, num_cpu=num_cpu)\n"
   ]
  },
  {
   "cell_type": "code",
   "execution_count": 9,
   "id": "59ca4e84-4b1b-475a-802e-05eab822e798",
   "metadata": {},
   "outputs": [
    {
     "name": "stdout",
     "output_type": "stream",
     "text": [
      "Saving the dataset in csv files\n",
      "[########################################] | 100% Completed | 14.8s\n",
      "./Features/feature_validset_*.csv was saved...\n"
     ]
    }
   ],
   "source": [
    "output_valid_pkl_file = './Features/feature_validset.pkl'\n",
    "output_valid_csv_files = './Features/feature_validset_*.csv'\n",
    "valid_dataset.to_pickle(output_valid_pkl_file)\n",
    "valid_dataset.to_csv_parallelized(output_valid_csv_files, scheduler='threading')"
   ]
  },
  {
   "cell_type": "code",
   "execution_count": 10,
   "id": "9633476d-cf81-4d01-ad91-c531c9998bc5",
   "metadata": {},
   "outputs": [
    {
     "name": "stderr",
     "output_type": "stream",
     "text": [
      "100%|██████████| 303/303 [00:09<00:00, 30.56it/s]"
     ]
    },
    {
     "name": "stdout",
     "output_type": "stream",
     "text": [
      "./Features/feature_validset.tfrecords was saved...\n"
     ]
    },
    {
     "name": "stderr",
     "output_type": "stream",
     "text": [
      "\n"
     ]
    }
   ],
   "source": [
    "ElementwiseDNN.write_tfrecords(feature_file='./Features/feature_validset.pkl', \n",
    "                               label_file='./Features/label_validset.csv', \n",
    "                               tfr_filename='./Features/feature_validset.tfrecords', \n",
    "                               feature_dimension=11583,\n",
    "                               label_colnames=['pKa_energy'])"
   ]
  },
  {
   "cell_type": "code",
   "execution_count": null,
   "id": "036e69a7-a2f1-49b7-8e60-9be7a652be75",
   "metadata": {},
   "outputs": [],
   "source": [
    "valid_dataset.head()"
   ]
  }
 ],
 "metadata": {
  "kernelspec": {
   "display_name": "Python 3 (ipykernel)",
   "language": "python",
   "name": "python3"
  },
  "language_info": {
   "codemirror_mode": {
    "name": "ipython",
    "version": 3
   },
   "file_extension": ".py",
   "mimetype": "text/x-python",
   "name": "python",
   "nbconvert_exporter": "python",
   "pygments_lexer": "ipython3",
   "version": "3.6.9"
  }
 },
 "nbformat": 4,
 "nbformat_minor": 5
}
